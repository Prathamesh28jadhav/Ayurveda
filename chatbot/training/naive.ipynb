{
 "cells": [
  {
   "cell_type": "code",
   "execution_count": 1,
   "id": "552d90f4-6496-4ac2-9b27-edf371a9420d",
   "metadata": {},
   "outputs": [],
   "source": [
    "import pandas as pd\n",
    "import numpy as np\n",
    "from sklearn.model_selection import train_test_split, cross_val_score\n",
    "from sklearn.preprocessing import StandardScaler, LabelEncoder\n",
    "from sklearn.naive_bayes import GaussianNB\n",
    "from sklearn.metrics import accuracy_score, classification_report, confusion_matrix\n",
    "import matplotlib.pyplot as plt\n",
    "import seaborn as sns"
   ]
  },
  {
   "cell_type": "code",
   "execution_count": 2,
   "id": "879aba94-8765-4207-815b-76c7f182e528",
   "metadata": {},
   "outputs": [
    {
     "name": "stdout",
     "output_type": "stream",
     "text": [
      "\n",
      "Missing values in Labels Data:\n",
      "Body Size               0\n",
      "Body Weight             0\n",
      "Height                  0\n",
      "Bone Structure          0\n",
      "Complexion              0\n",
      "General feel of skin    0\n",
      "Texture of Skin         0\n",
      "Hair Color              0\n",
      "Appearance of Hair      0\n",
      "Shape of face           0\n",
      "Eyes                    0\n",
      "Eyelashes               0\n",
      "Blinking of Eyes        0\n",
      "Cheeks                  0\n",
      "Nose                    0\n",
      "Teeth and gums          0\n",
      "Lips                    0\n",
      "Nails                   0\n",
      "Appetite                0\n",
      "Liking tastes           0\n",
      "Dosha                   0\n",
      "dtype: int64\n"
     ]
    }
   ],
   "source": [
    "# Load the dataset\n",
    "data = pd.read_csv(r'D:\\mini project\\AI project\\chatbot\\data\\data.csv')\n",
    "\n",
    "# Check for missing values\n",
    "print(\"\\nMissing values in Labels Data:\")\n",
    "print(data.isnull().sum())\n",
    "\n",
    "# Drop rows with missing values\n",
    "data = data.dropna()"
   ]
  },
  {
   "cell_type": "code",
   "execution_count": 3,
   "id": "852f569d-e3f4-416d-b5d4-bd031d0a0816",
   "metadata": {},
   "outputs": [],
   "source": [
    "# Save input and output columns\n",
    "X = data.iloc[:, :20]  # Features\n",
    "y = data['Dosha']  # Labels (replace 'Dosha' with the actual column name)\n",
    "\n",
    "# Handle categorical data in X using Label Encoding for non-numeric columns\n",
    "label_encoder = LabelEncoder()"
   ]
  },
  {
   "cell_type": "code",
   "execution_count": 4,
   "id": "85785e32-e125-4c62-b27b-dd4f9fa2e986",
   "metadata": {},
   "outputs": [],
   "source": [
    "# Apply label encoding on each categorical column in X\n",
    "for column in X.select_dtypes(include=['object']).columns:\n",
    "    X.loc[:, column] = label_encoder.fit_transform(X[column])"
   ]
  },
  {
   "cell_type": "code",
   "execution_count": 5,
   "id": "c3e2f2b5-9d19-4a47-93a8-5a926cace320",
   "metadata": {},
   "outputs": [
    {
     "name": "stdout",
     "output_type": "stream",
     "text": [
      "Training set size: (840, 20)\n",
      "Testing set size: (360, 20)\n"
     ]
    }
   ],
   "source": [
    "# Split into training and testing sets (70% training, 30% testing)\n",
    "X_train, X_test, y_train, y_test = train_test_split(X, y, test_size=0.3, stratify=y, random_state=42)\n",
    "\n",
    "print(\"Training set size:\", X_train.shape)\n",
    "print(\"Testing set size:\", X_test.shape)"
   ]
  },
  {
   "cell_type": "code",
   "execution_count": 8,
   "id": "4daa630c-f99e-4bc5-a4db-9d5ff4e4f230",
   "metadata": {},
   "outputs": [],
   "source": [
    "# Scale the data\n",
    "scaler = StandardScaler()\n",
    "X_train_scaled = scaler.fit_transform(X_train)\n",
    "X_test_scaled = scaler.transform(X_test)\n",
    "# Initialize the Naive Bayes Classifier\n",
    "nb = GaussianNB()"
   ]
  },
  {
   "cell_type": "code",
   "execution_count": 9,
   "id": "e1261d21-5555-4391-b9ab-abf0588be083",
   "metadata": {},
   "outputs": [
    {
     "name": "stdout",
     "output_type": "stream",
     "text": [
      "Test Accuracy: 73.61%\n"
     ]
    }
   ],
   "source": [
    "# Train the model\n",
    "model = nb.fit(X_train_scaled, y_train)\n",
    "\n",
    "# Make predictions\n",
    "y_pred = model.predict(X_test_scaled)\n",
    "\n",
    "# Calculate the accuracy\n",
    "accuracy = accuracy_score(y_test, y_pred)\n",
    "print(f\"Test Accuracy: {accuracy * 100:.2f}%\")"
   ]
  },
  {
   "cell_type": "code",
   "execution_count": 10,
   "id": "a05e757d-de66-43c8-8263-64893b51e159",
   "metadata": {},
   "outputs": [
    {
     "name": "stdout",
     "output_type": "stream",
     "text": [
      "\n",
      "Classification Report:\n",
      "              precision    recall  f1-score   support\n",
      "\n",
      "           0       0.78      0.78      0.78        79\n",
      "           1       0.42      0.88      0.57        43\n",
      "           2       1.00      1.00      1.00        22\n",
      "           3       0.84      0.61      0.71       187\n",
      "           4       1.00      1.00      1.00        14\n",
      "           5       0.83      1.00      0.91        15\n",
      "\n",
      "    accuracy                           0.74       360\n",
      "   macro avg       0.81      0.88      0.83       360\n",
      "weighted avg       0.79      0.74      0.74       360\n",
      "\n",
      "Cross-Validation Accuracy:  0.725\n"
     ]
    },
    {
     "data": {
      "image/png": "[encoded data removed]",
      "text/plain": [
       "<Figure size 800x600 with 2 Axes>"
      ]
     },
     "metadata": {},
     "output_type": "display_data"
    }
   ],
   "source": [
    "# Evaluate the model\n",
    "print(\"\\nClassification Report:\")\n",
    "print(classification_report(y_test, y_pred))\n",
    "\n",
    "# Perform cross-validation\n",
    "cv_scores = cross_val_score(model, X, y, cv=10)\n",
    "print(\"Cross-Validation Accuracy: \", cv_scores.mean())\n",
    "\n",
    "# Confusion Matrix\n",
    "conf_matrix = confusion_matrix(y_test, y_pred)\n",
    "plt.figure(figsize=(8, 6))\n",
    "sns.heatmap(conf_matrix, annot=True, fmt='d', cmap='Blues', xticklabels=np.unique(y), yticklabels=np.unique(y))\n",
    "plt.title(\"Confusion Matrix\")\n",
    "plt.xlabel(\"Predicted\")\n",
    "plt.ylabel(\"Actual\")\n",
    "plt.show()"
   ]
  },
  {
   "cell_type": "code",
   "execution_count": null,
   "id": "e1bb9963-24f1-49f6-aabb-9d488530a053",
   "metadata": {},
   "outputs": [],
   "source": []
  }
 ],
 "metadata": {
  "kernelspec": {
   "display_name": "Python 3 (ipykernel)",
   "language": "python",
   "name": "python3"
  },
  "language_info": {
   "codemirror_mode": {
    "name": "ipython",
    "version": 3
   },
   "file_extension": ".py",
   "mimetype": "text/x-python",
   "name": "python",
   "nbconvert_exporter": "python",
   "pygments_lexer": "ipython3",
   "version": "3.11.0"
  }
 },
 "nbformat": 4,
 "nbformat_minor": 5
}
