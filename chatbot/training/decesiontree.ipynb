{
 "cells": [
  {
   "cell_type": "code",
   "execution_count": 1,
   "id": "ccec7764-74ca-464c-b483-a6310df656c1",
   "metadata": {},
   "outputs": [],
   "source": [
    "from sklearn.model_selection import train_test_split, GridSearchCV\n",
    "from sklearn.preprocessing import StandardScaler\n",
    "from sklearn.tree import DecisionTreeClassifier\n",
    "from sklearn.metrics import accuracy_score, confusion_matrix, classification_report\n",
    "import pandas as pd"
   ]
  },
  {
   "cell_type": "code",
   "execution_count": 2,
   "id": "b3a9f2f9-8de4-4cbf-9a02-2941eb9b6e55",
   "metadata": {},
   "outputs": [],
   "source": [
    "# Load your data\n",
    "data = pd.read_csv(r'D:\\mini project\\sem VI\\project\\bot\\data\\raw\\data.csv')\n",
    "\n",
    "# Apply One-Hot Encoding (if needed)\n",
    "data = pd.get_dummies(data, drop_first=True)\n",
    "\n",
    "# Split data into features (X) and target variable (y)\n",
    "X = data.iloc[:, :-1].values  # All columns except the last one\n",
    "y = data.iloc[:, 20].values   # Last column is the label"
   ]
  },
  {
   "cell_type": "code",
   "execution_count": 3,
   "id": "d1bf6314-597a-4950-a98c-f3fc68c45883",
   "metadata": {},
   "outputs": [],
   "source": [
    "# Split into training and test sets\n",
    "X_train, X_test, y_train, y_test = train_test_split(X, y, test_size=0.2, random_state=42)\n",
    "\n",
    "# Scale the data\n",
    "scaler = StandardScaler()\n",
    "X_train_scaled = scaler.fit_transform(X_train)\n",
    "X_test_scaled = scaler.transform(X_test)"
   ]
  },
  {
   "cell_type": "code",
   "execution_count": 4,
   "id": "3533c6c7-a350-4fc1-a022-0075d1a43212",
   "metadata": {},
   "outputs": [],
   "source": [
    "# Create a Decision Tree model\n",
    "model = DecisionTreeClassifier(random_state=42)\n",
    "\n",
    "# Perform GridSearchCV to find best parameters\n",
    "param_grid = {\n",
    "    'criterion': ['gini', 'entropy'],\n",
    "    'max_depth': [None, 5, 10, 15],  # Limiting depth to prevent overfitting\n",
    "    'min_samples_split': [2, 5, 10],  # Increase this to avoid overfitting\n",
    "    'min_samples_leaf': [1, 2, 4],  # Increase this to avoid overfitting\n",
    "    'max_features': [None, 'sqrt', 'log2']  # Limit features considered at each split\n",
    "}"
   ]
  },
  {
   "cell_type": "code",
   "execution_count": 5,
   "id": "a3c88973-405e-47f3-b63f-c91ef834230b",
   "metadata": {},
   "outputs": [
    {
     "name": "stdout",
     "output_type": "stream",
     "text": [
      "Fitting 5 folds for each of 216 candidates, totalling 1080 fits\n",
      "Best Parameters: {'criterion': 'gini', 'max_depth': None, 'max_features': None, 'min_samples_leaf': 1, 'min_samples_split': 2}\n",
      "Accuracy on Test Data: 100.00%\n"
     ]
    }
   ],
   "source": [
    "grid_search = GridSearchCV(estimator=model, param_grid=param_grid, n_jobs=-1, cv=5, verbose=1)\n",
    "grid_search.fit(X_train_scaled, y_train)\n",
    "\n",
    "# Best parameters from GridSearchCV\n",
    "print(\"Best Parameters:\", grid_search.best_params_)\n",
    "\n",
    "# Predict using the best estimator\n",
    "y_pred = grid_search.best_estimator_.predict(X_test_scaled)\n",
    "\n",
    "# Evaluate the model\n",
    "accuracy = accuracy_score(y_test, y_pred)\n",
    "print(f\"Accuracy on Test Data: {accuracy * 100:.2f}%\")"
   ]
  },
  {
   "cell_type": "code",
   "execution_count": 6,
   "id": "80430add-5f31-4665-9942-179179a7558b",
   "metadata": {},
   "outputs": [
    {
     "name": "stdout",
     "output_type": "stream",
     "text": [
      "Confusion Matrix:\n",
      "[[ 48   0   0   0   0   0]\n",
      " [  0  33   0   0   0   0]\n",
      " [  0   0   9   0   0   0]\n",
      " [  0   0   0 125   0   0]\n",
      " [  0   0   0   0  15   0]\n",
      " [  0   0   0   0   0  10]]\n",
      "Classification Report:\n",
      "              precision    recall  f1-score   support\n",
      "\n",
      "           0       1.00      1.00      1.00        48\n",
      "           1       1.00      1.00      1.00        33\n",
      "           2       1.00      1.00      1.00         9\n",
      "           3       1.00      1.00      1.00       125\n",
      "           4       1.00      1.00      1.00        15\n",
      "           5       1.00      1.00      1.00        10\n",
      "\n",
      "    accuracy                           1.00       240\n",
      "   macro avg       1.00      1.00      1.00       240\n",
      "weighted avg       1.00      1.00      1.00       240\n",
      "\n"
     ]
    }
   ],
   "source": [
    "# Confusion Matrix and Classification Report\n",
    "print(\"Confusion Matrix:\")\n",
    "print(confusion_matrix(y_test, y_pred))\n",
    "print(\"Classification Report:\")\n",
    "print(classification_report(y_test, y_pred))"
   ]
  },
  {
   "cell_type": "code",
   "execution_count": null,
   "id": "d13aa559-2627-4e52-a613-bab6ce77a307",
   "metadata": {},
   "outputs": [],
   "source": []
  }
 ],
 "metadata": {
  "kernelspec": {
   "display_name": "Python 3 (ipykernel)",
   "language": "python",
   "name": "python3"
  },
  "language_info": {
   "codemirror_mode": {
    "name": "ipython",
    "version": 3
   },
   "file_extension": ".py",
   "mimetype": "text/x-python",
   "name": "python",
   "nbconvert_exporter": "python",
   "pygments_lexer": "ipython3",
   "version": "3.11.0"
  }
 },
 "nbformat": 4,
 "nbformat_minor": 5
}
